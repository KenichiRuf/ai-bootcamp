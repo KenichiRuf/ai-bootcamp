{
 "cells": [
  {
   "cell_type": "markdown",
   "metadata": {},
   "source": [
    "1. Vectors & Matrices\n",
    "\n",
    "ML is just a bunch of matrix multiplication.\n",
    "\n",
    "The weights of the model can be represented as a matrix (model matrix) and each data point can also be represented as a matrix (input matrix). you output a prediction by multiplying the input matrix with the model matrix which happens both in training an for inference so everything is just linear algebra."
   ]
  },
  {
   "cell_type": "code",
   "execution_count": 1,
   "metadata": {},
   "outputs": [
    {
     "name": "stdout",
     "output_type": "stream",
     "text": [
      "dot: 14\n",
      "dot: [14]\n",
      "sum: [[2 3 4]\n",
      " [3 4 5]\n",
      " [4 5 6]]\n"
     ]
    }
   ],
   "source": [
    "import numpy as np\n",
    "a = np.array([1,2,3])\n",
    "b = np.array([[1],[2],[3]])\n",
    "\n",
    "print(\"dot:\", a @ a)\n",
    "print(\"dot:\", a @ b)\n",
    "print(\"sum:\", a + b)"
   ]
  },
  {
   "cell_type": "markdown",
   "metadata": {},
   "source": [
    "2. Linear Regression Gradient\n",
    "\n",
    "Cost Function: \n",
    "$$\n",
    "J(\\theta) = 1/2m\\sum_{i=1}^{m} (h_\\theta(x^i) - y^i)^2\n",
    "$$\n",
    "\n",
    "Vectorized form of the Cost Function:\n",
    "$$\n",
    "J(\\theta) = 1/2m||X\\theta - y||_{2}^{2}\n",
    "$$\n",
    "\n",
    "Do Chain Rule"
   ]
  },
  {
   "cell_type": "code",
   "execution_count": 2,
   "metadata": {},
   "outputs": [],
   "source": [
    "def gradient_descent(X, y, lr=0.01, epochs=1000):\n",
    "    m, n = X.shape\n",
    "    theta = np.zeros((n, 1))\n",
    "    loss_history = []\n",
    "\n",
    "    for epoch in range(epochs):\n",
    "        error = X @ theta - y\n",
    "        gradient = X.T @ error / m\n",
    "        theta = theta - lr * gradient\n",
    "        if epoch % 10 == 0:\n",
    "            loss = error.T @ error / (2 * m)\n",
    "            loss_history.append(loss.item())\n",
    "            print(f\"Epoch {epoch}: Loss = {loss.item():.6f}\")\n",
    "\n",
    "    return theta, loss_history"
   ]
  },
  {
   "cell_type": "code",
   "execution_count": null,
   "metadata": {},
   "outputs": [],
   "source": [
    "import pandas as pd\n",
    "from pathlib import Path\n",
    "\n",
    "sample = Path(\"../data/processed/nyc_taxi_clean_sample.csv\")\n",
    "df = pd.read_csv(sample)\n",
    "\n",
    "X = df[[\"trip_duration_min\", \"hour\"]].to_numpy()\n",
    "y = df[\"trip_distance\"].to_numpy()\n",
    "\n",
    "m = X.shape[0]\n",
    "X_b = np.hstack([np.ones((m, 1)), X])\n",
    "\n",
    "theta, losses = gradient_descent(X_b, y, lr=0.0005, epochs=2000)\n",
    "print(\"theta:\", theta.ravel())"
   ]
  }
 ],
 "metadata": {
  "kernelspec": {
   "display_name": "ai-bootcamp",
   "language": "python",
   "name": "ai-bootcamp"
  },
  "language_info": {
   "codemirror_mode": {
    "name": "ipython",
    "version": 3
   },
   "file_extension": ".py",
   "mimetype": "text/x-python",
   "name": "python",
   "nbconvert_exporter": "python",
   "pygments_lexer": "ipython3",
   "version": "3.12.3"
  }
 },
 "nbformat": 4,
 "nbformat_minor": 2
}
